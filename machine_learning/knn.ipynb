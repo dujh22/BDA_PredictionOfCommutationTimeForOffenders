{
 "cells": [
  {
   "cell_type": "code",
   "execution_count": 13,
   "metadata": {
    "collapsed": true
   },
   "outputs": [],
   "source": [
    "# -*- coding:utf-8 -*-\n",
    "import pandas as pd\n",
    "from sklearn.metrics import roc_auc_score\n",
    "import knn"
   ]
  },
  {
   "cell_type": "code",
   "execution_count": null,
   "outputs": [],
   "source": [
    "import numpy as np\n",
    "class knn:\n",
    "    def __init__(self, k):\n",
    "        self.k = k\n",
    "    def fit(self, X, y):\n",
    "        self.X = np.asarray(X)\n",
    "        self.y = np.asarray(y)\n",
    "    def predict(self, X):\n",
    "        X = np.asarray(X)\n",
    "        prey = []\n",
    "        for x in X:\n",
    "            dis = np.sqrt(np.sum((x - self.X) ** 2, axis=1))  # axis = 1 按行求和\n",
    "            index = dis.argsort()\n",
    "            index = index[:self.k]\n",
    "            count = np.bincount(self.y[index])\n",
    "            prey.append(count.argmax())\n",
    "        return prey"
   ],
   "metadata": {
    "collapsed": false
   }
  },
  {
   "cell_type": "code",
   "execution_count": 14,
   "outputs": [],
   "source": [
    "df = pd.read_csv('./process_data/train.csv', header=0)\n",
    "# 打乱数据\n",
    "df = df.sample(len(df), random_state=0)\n",
    "# 分配训练集和测试集\n",
    "rate = 0.7 # 7:3\n",
    "midi = round(len(df) * 0.7)\n",
    "train_X = df.iloc[:midi, :-1]\n",
    "train_y = df.iloc[:midi,  -1]\n",
    "test_X  = df.iloc[midi:, :-1]\n",
    "test_y  = df.iloc[midi:,  -1]"
   ],
   "metadata": {
    "collapsed": false
   }
  },
  {
   "cell_type": "code",
   "execution_count": 21,
   "outputs": [],
   "source": [
    "# 模型初始化\n",
    "knn_k = 60\n",
    "knn_model = knn.knn(knn_k)\n",
    "# 模型训练\n",
    "knn_model.fit(train_X, train_y)\n",
    "# 模型预测\n",
    "prey = knn_model.predict(test_X)"
   ],
   "metadata": {
    "collapsed": false
   }
  }
 ],
 "metadata": {
  "kernelspec": {
   "display_name": "Python 3",
   "language": "python",
   "name": "python3"
  },
  "language_info": {
   "codemirror_mode": {
    "name": "ipython",
    "version": 2
   },
   "file_extension": ".py",
   "mimetype": "text/x-python",
   "name": "python",
   "nbconvert_exporter": "python",
   "pygments_lexer": "ipython2",
   "version": "2.7.6"
  }
 },
 "nbformat": 4,
 "nbformat_minor": 0
}
