{
 "cells": [
  {
   "cell_type": "code",
   "execution_count": null,
   "metadata": {},
   "outputs": [],
   "source": [
    "import time\n",
    "import numpy as np\n",
    "import pandas as pd\n",
    "import matplotlib.pyplot as plt\n",
    "from sklearn.model_selection import StratifiedKFold\n",
    "import sklearn.svm as svm\n",
    "from sklearn.model_selection import cross_validate, GridSearchCV\n",
    "from sklearn.model_selection import train_test_split\n",
    "from sklearn.metrics import confusion_matrix, accuracy_score, precision_score\n",
    "from sklearn.metrics import recall_score, f1_score, roc_auc_score\n",
    "from sklearn.pipeline import Pipeline\n",
    "from sklearn.preprocessing import StandardScaler\n",
    "import itertools"
   ]
  },
  {
   "cell_type": "code",
   "execution_count": null,
   "metadata": {},
   "outputs": [],
   "source": [
    "### 导入数据\n",
    "df = pd.read_csv('./process_data/train.csv')\n",
    "keys = np.array(df.columns)\n",
    "dic = {}\n",
    "for colname in df:\n",
    "    arr = df.loc[:,colname].values\n",
    "    dic[colname] = arr\n",
    "\n",
    "# 构建数据集与标签集\n",
    "data_set = dic[keys[1]].reshape(-1,1)   # 数据集\n",
    "for i in range(2,len(keys)-1):\n",
    "    data_set = np.append(data_set, dic[keys[i]].reshape(-1,1), axis = 1)\n",
    "label_set = dic[keys[-1]]               # 标签集\n",
    "data_set = data_set[np.lexsort(-data_set.T[0, None])]\n",
    "\n",
    "# 数据集划分         \n",
    "x_train, x_test, y_train, y_test = train_test_split(data_set, label_set, test_size=0.3, shuffle= False)     # 训练集与测试集按照7：3比例划分\n",
    "xx_train, xx_val, yy_train, yy_val = train_test_split(x_train, y_train, test_size=0.2, shuffle= False)      # 训练集中取五分之一作为验证集，与5折交叉验证比例相同"
   ]
  },
  {
   "cell_type": "code",
   "execution_count": null,
   "metadata": {},
   "outputs": [],
   "source": [
    "# 数据预处理\n",
    "## 分别对训练集、验证集和测试集进行数据标准化\n",
    "scaler = StandardScaler()     \n",
    "x_train = scaler.fit_transform(x_train)     # 完整训练集\n",
    "xx_train = scaler.fit_transform(xx_train)   # 除去验证集后的训练集\n",
    "xx_val = scaler.fit_transform(xx_val)       # 验证集\n",
    "x_test = scaler.fit_transform(x_test)       # 测试集"
   ]
  },
  {
   "cell_type": "code",
   "execution_count": null,
   "metadata": {},
   "outputs": [],
   "source": [
    "# 依据Fisher准则进行特征选择\n",
    "J_fisher = []\n",
    "feature_num = [5, 10, 20, 30, 50, xx_train.shape[1]]\n",
    "Model = svm.SVC(kernel='rbf', C=1, gamma=0.01)\n",
    "\n",
    "# 基于样本类别进行分类\n",
    "idx_0 = np.argwhere(yy_train == False)\n",
    "idx_1 = np.argwhere(yy_train == True)\n",
    "X_train_0 = np.mat(xx_train[idx_0])\n",
    "X_train_1 = np.mat(xx_train[idx_1])\n",
    "\n",
    "# 基于类内类间距离的判据计算每个特征的投影距离\n",
    "for i in range(xx_train.shape[1]):\n",
    "    mu_0 = np.mean(X_train_0[:,i])\n",
    "    mu_1 = np.mean(X_train_1[:,i])\n",
    "    sigma_0 = np.var(X_train_0[:,i])\n",
    "    sigma_1 = np.var(X_train_1[:,i])\n",
    "    J = (mu_0 - mu_1)**2/(sigma_0**2 + sigma_1**2)\n",
    "    J_fisher.append(J)"
   ]
  },
  {
   "cell_type": "code",
   "execution_count": null,
   "metadata": {},
   "outputs": [],
   "source": [
    "# 根据目标特征数k选择距离最远的前k个特征进行学习\n",
    "for i in feature_num:\n",
    "    feature_f = []\n",
    "    J_f = np.argsort(J_fisher)\n",
    "    feature_f = J_f[-i:]\n",
    "\n",
    "    # 计算k个特征下的准确率\n",
    "    X_train_fselected = xx_train[:,feature_f]\n",
    "    X_test_fselected = xx_val[:,feature_f]\n",
    "    Model.fit(X_train_fselected, yy_train)\n",
    "    Y_pred_f_v = Model.predict(X_test_fselected)\n",
    "    Y_pred_f_t = Model.predict(X_train_fselected)\n",
    "    acc_f_v = accuracy_score(Y_pred_f_v, yy_val)\n",
    "    acc_f_t = accuracy_score(Y_pred_f_t, yy_train)\n",
    "\n",
    "    print(str(i),\"features, train acc：\", acc_f_t)\n",
    "    print(str(i),\"features, val acc：\", acc_f_v)\n",
    "    print(str(i),\"features index\",feature_f)"
   ]
  },
  {
   "cell_type": "code",
   "execution_count": null,
   "metadata": {},
   "outputs": [],
   "source": [
    "# 依据验证结果选择特征\n",
    "feature = J_f[-50:]\n",
    "x_train = x_train[:,feature]\n",
    "x_test = x_test[:,feature]"
   ]
  },
  {
   "cell_type": "code",
   "execution_count": null,
   "metadata": {},
   "outputs": [],
   "source": [
    "# 模型训练与网格化参数搜索\n",
    "\n",
    "#k折分层抽样\n",
    "skf = StratifiedKFold(n_splits=5,shuffle=True,random_state=233)\n",
    "\n",
    "#实例化svm模型\n",
    "params = {'svm__gamma': [0.001, 0.005, 0.01, 0.005, 0.1, 1], 'svm__C': [1, 3, 5, 10, 20]}\n",
    "clf = Pipeline([('ss', StandardScaler()), ('svm', svm.SVC(kernel='rbf'))])\n",
    "gs = GridSearchCV(clf, params, refit= 'accuracy', verbose= 1, cv= skf)\n",
    "gs.fit(x_train, y_train)\n",
    "print('best params: ',gs.best_params_)\n",
    "print('best score: ', gs.best_score_)"
   ]
  },
  {
   "cell_type": "code",
   "execution_count": null,
   "metadata": {},
   "outputs": [],
   "source": [
    "# 保存网格化搜索结果\n",
    "np.save('./result/svm_cv_results.npy', gs.cv_results_)"
   ]
  },
  {
   "cell_type": "code",
   "execution_count": null,
   "metadata": {},
   "outputs": [],
   "source": [
    "## 依次比较五项评价指标结果\n",
    "res = gs.cv_results_\n",
    "idx = {}"
   ]
  },
  {
   "cell_type": "code",
   "execution_count": null,
   "metadata": {},
   "outputs": [],
   "source": [
    "### 模型预测\n",
    "## {'svm__C': 1, 'svm__gamma': 0.01}\n",
    "model1 = svm.SVC(kernel='rbf', C=1, gamma=0.01)\n",
    "model1.fit(x_train, y_train)\n",
    "y_pred1 = model1.predict(x_test)"
   ]
  }
 ],
 "metadata": {
  "kernelspec": {
   "display_name": "Python 3.8.13 ('jupyter')",
   "language": "python",
   "name": "python3"
  },
  "language_info": {
   "codemirror_mode": {
    "name": "ipython",
    "version": 3
   },
   "file_extension": ".py",
   "mimetype": "text/x-python",
   "name": "python",
   "nbconvert_exporter": "python",
   "pygments_lexer": "ipython3",
   "version": "3.8.15"
  },
  "orig_nbformat": 4,
  "vscode": {
   "interpreter": {
    "hash": "94186ee46dd20d9135eb93318a31c12944db0bab97754bb10895fc1a10cecd0e"
   }
  }
 },
 "nbformat": 4,
 "nbformat_minor": 2
}
