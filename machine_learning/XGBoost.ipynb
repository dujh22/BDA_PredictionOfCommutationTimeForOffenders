{
 "cells": [
  {
   "cell_type": "code",
   "execution_count": null,
   "metadata": {},
   "outputs": [],
   "source": [
    "import time\n",
    "import numpy as np\n",
    "import pandas as pd\n",
    "import matplotlib.pyplot as plt\n",
    "from sklearn.model_selection import StratifiedKFold\n",
    "import sklearn.svm as svm\n",
    "from sklearn.model_selection import cross_validate, GridSearchCV\n",
    "from sklearn.model_selection import train_test_split\n",
    "from sklearn.metrics import confusion_matrix, accuracy_score, precision_score\n",
    "from sklearn.metrics import recall_score, f1_score, roc_auc_score\n",
    "from sklearn.pipeline import Pipeline\n",
    "from sklearn.preprocessing import StandardScaler\n",
    "import itertools\n",
    "import xgboost as xgb\n",
    "import shap"
   ]
  },
  {
   "cell_type": "code",
   "execution_count": null,
   "metadata": {},
   "outputs": [],
   "source": [
    "# 导入数据\n",
    "df = pd.read_csv('./process_data/train.csv')\n",
    "keys = np.array(df.columns)\n",
    "dic = {}\n",
    "for colname in df:\n",
    "    arr = df.loc[:,colname].values\n",
    "    dic[colname] = arr\n",
    "\n",
    "# 构建数据集与标签集\n",
    "data_set = dic[keys[1]].reshape(-1,1)   # 数据集\n",
    "for i in range(2,len(keys)-1):\n",
    "    data_set = np.append(data_set, dic[keys[i]].reshape(-1,1), axis = 1)\n",
    "label_set = dic[keys[-1]]               # 标签集"
   ]
  },
  {
   "cell_type": "code",
   "execution_count": null,
   "metadata": {},
   "outputs": [],
   "source": [
    "data_set = data_set[np.lexsort(-data_set.T[0, None])]\n",
    "A_idx = np.argwhere(data_set[:,0] > np.median(data_set[:,0]))\n",
    "B_idx = np.argwhere(data_set[:,0] <= np.median(data_set[:,0]))"
   ]
  },
  {
   "cell_type": "code",
   "execution_count": null,
   "metadata": {},
   "outputs": [],
   "source": [
    "# 取A_idx为训练集，B_idx为测试集（7：3）\n",
    "x_train = data_set[A_idx]\n",
    "y_train = label_set[A_idx]\n",
    "x_, x_test, y_, y_test = train_test_split(data_set[B_idx], label_set[B_idx], test_size=0.3)\n",
    "\n",
    "# 数据预处理\n",
    "# 分别对训练集、验证集和测试集进行数据标准化\n",
    "scaler = StandardScaler()     \n",
    "x_train = scaler.fit_transform(x_train.squeeze())     # 完整训练集\n",
    "x_test = scaler.fit_transform(x_test.squeeze())       # 测试集"
   ]
  },
  {
   "cell_type": "code",
   "execution_count": null,
   "metadata": {},
   "outputs": [],
   "source": [
    "# 模型训练\n",
    "model = xgb.XGBClassifier(learning_rate=0.1, n_estimators=160, objective='binary:logistic')\n",
    "model.fit(x_train, y_train)\n",
    "y_pred = model.predict(x_test)\n",
    "\n",
    "# 绘制预测结果\n",
    "cm = confusion_matrix(y_test, y_pred)\n",
    "labels_name = ['popular','unpopular']\n",
    "plot_confusion_matrix(cm, labels_name, \"Confusion Matrix Model 1\")\n",
    "plt.show()"
   ]
  }
 ],
 "metadata": {
  "kernelspec": {
   "display_name": "Python 3",
   "language": "python",
   "name": "python3"
  },
  "language_info": {
   "codemirror_mode": {
    "name": "ipython",
    "version": 3
   },
   "file_extension": ".py",
   "mimetype": "text/x-python",
   "name": "python",
   "nbconvert_exporter": "python",
   "pygments_lexer": "ipython3",
   "version": "3.10.8"
  },
  "orig_nbformat": 4,
  "vscode": {
   "interpreter": {
    "hash": "301a17a29b57d3836b7901af1621afd6d2b1f2298b9c7949191147cf2fea93e3"
   }
  }
 },
 "nbformat": 4,
 "nbformat_minor": 2
}
