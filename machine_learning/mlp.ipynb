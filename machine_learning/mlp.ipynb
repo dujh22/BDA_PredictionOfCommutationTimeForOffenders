{
 "cells": [
  {
   "cell_type": "code",
   "execution_count": null,
   "metadata": {},
   "outputs": [],
   "source": [
    "import time\n",
    "import numpy as np\n",
    "import pandas as pd\n",
    "import matplotlib.pyplot as plt\n",
    "from sklearn.model_selection import StratifiedKFold\n",
    "from sklearn.model_selection import GridSearchCV\n",
    "from sklearn.model_selection import train_test_split\n",
    "from sklearn.metrics import confusion_matrix, accuracy_score, precision_score\n",
    "from sklearn.metrics import recall_score, f1_score, roc_auc_score\n",
    "from sklearn.preprocessing import StandardScaler\n",
    "from sklearn.neural_network import MLPClassifier\n",
    "import itertools\n",
    "from sklearn.pipeline import Pipeline"
   ]
  },
  {
   "cell_type": "code",
   "execution_count": null,
   "metadata": {},
   "outputs": [],
   "source": [
    "# 导入数据\n",
    "df = pd.read_csv('./process_data/train.csv')\n",
    "keys = np.array(df.columns)\n",
    "dic = {}\n",
    "for colname in df:\n",
    "    arr = df.loc[:,colname].values\n",
    "    dic[colname] = arr\n",
    "dic[keys[-1]] = dic[keys[-1]] > 1400\n",
    "\n",
    "# 构建数据集与标签集\n",
    "data_set = dic[keys[1]].reshape(-1,1)\n",
    "for i in range(2,len(keys)-1):\n",
    "    data_set = np.append(data_set, dic[keys[i]].reshape(-1,1), axis = 1)\n",
    "label_set = dic[keys[-1]]\n",
    "data_set = data_set[np.lexsort(-data_set.T[0, None])]\n",
    "\n",
    "# 数据集划分\n",
    "scaler = StandardScaler()\n",
    "x_train, x_test, y_train, y_test = train_test_split(data_set, label_set, test_size=0.3, shuffle= False)\n",
    "xx_train, xx_val, yy_train, yy_val = train_test_split(x_train, y_train, test_size=0.2, shuffle= False)\n",
    "\n",
    "xx_train = scaler.fit_transform(xx_train)\n",
    "xx_val = scaler.fit_transform(xx_val)"
   ]
  },
  {
   "cell_type": "code",
   "execution_count": null,
   "metadata": {},
   "outputs": [],
   "source": [
    "# 依据Fisher准则进行特征选择\n",
    "J_fisher = []\n",
    "feature_num = [5, 10, 20, 30, 40, 50, xx_train.shape[1]]\n",
    "Model = MLPClassifier(solver= 'adam', activation= 'relu', \n",
    "        batch_size= 64, learning_rate= 'adaptive', shuffle= True,\n",
    "        alpha= 0.1, hidden_layer_sizes= 50, learning_rate_init= 1e-4, max_iter=1000)\n",
    "\n",
    "# 基于样本类别进行分类\n",
    "idx_0 = np.argwhere(yy_train == False)\n",
    "idx_1 = np.argwhere(yy_train == True)\n",
    "X_train_0 = np.mat(xx_train[idx_0])\n",
    "X_train_1 = np.mat(xx_train[idx_1])\n",
    "\n",
    "# 基于类内类间距离的判据 and 基于最大信息系数的判据\n",
    "for i in range(xx_train.shape[1]):\n",
    "    mu_0 = np.mean(X_train_0[:,i])\n",
    "    mu_1 = np.mean(X_train_1[:,i])\n",
    "    sigma_0 = np.var(X_train_0[:,i])\n",
    "    sigma_1 = np.var(X_train_1[:,i])\n",
    "    J = (mu_0 - mu_1)**2/(sigma_0**2 + sigma_1**2)\n",
    "    J_fisher.append(J)"
   ]
  },
  {
   "cell_type": "code",
   "execution_count": null,
   "outputs": [],
   "source": [
    "# 根据目标特征数进行选择\n",
    "for i in feature_num:\n",
    "    feature_f = []\n",
    "    J_f = np.argsort(J_fisher)\n",
    "    feature_f = J_f[-i:]\n",
    "\n",
    "    #计算准确率\n",
    "    X_train_fselected = xx_train[:,feature_f]\n",
    "    X_test_fselected = xx_val[:,feature_f]\n",
    "    Model.fit(X_train_fselected, yy_train)\n",
    "    Y_pred_f_v = Model.predict(X_test_fselected)\n",
    "    Y_pred_f_t = Model.predict(X_train_fselected)\n",
    "    acc_f_v = accuracy_score(Y_pred_f_v, yy_val)\n",
    "    acc_f_t = accuracy_score(Y_pred_f_t, yy_train)\n",
    "\n",
    "    print(str(i),\"features, train acc：\", acc_f_t)\n",
    "    print(str(i),\"features, val acc：\", acc_f_v)\n",
    "    print(str(i),\"features index\",feature_f)"
   ],
   "metadata": {
    "collapsed": false
   }
  },
  {
   "cell_type": "code",
   "execution_count": null,
   "metadata": {},
   "outputs": [],
   "source": [
    "feature = J_f[-40:]\n",
    "x_train = x_train[:,feature]\n",
    "x_test = x_test[:,feature]"
   ]
  },
  {
   "cell_type": "code",
   "execution_count": null,
   "metadata": {
    "pycharm": {
     "is_executing": true
    }
   },
   "outputs": [],
   "source": [
    "# 模型训练\n",
    "\n",
    "#k折分层抽样\n",
    "skf = StratifiedKFold(n_splits=5,shuffle=True,random_state=233)\n",
    "\n",
    "#实例化svm模型，网格化参数精细调参\n",
    "params = {'mlp__alpha': [1e-3, 1e-2, 1e-1, 1], 'mlp__hidden_layer_sizes': [10, 20, 30, 40, 50], 'mlp__learning_rate_init': [1e-4, 1e-3, 1e-2]}\n",
    "clf = Pipeline([('ss', StandardScaler()), ('mlp', MLPClassifier(solver= 'adam', activation= 'relu', batch_size= 64, learning_rate= 'adaptive', shuffle= True, max_iter= 1000))])\n",
    "scores = ('accuracy', 'precision', 'f1', 'recall', 'roc_auc')\n",
    "gs = GridSearchCV(clf, params, refit= 'accuracy', verbose= 1, cv= skf, scoring= scores)\n",
    "gs.fit(x_train, y_train)\n",
    "print('best params: ',gs.best_params_)\n",
    "print('best score: ', gs.best_score_)"
   ]
  },
  {
   "cell_type": "code",
   "execution_count": null,
   "metadata": {},
   "outputs": [],
   "source": [
    "np.save('./result/mlp_cv_results.npy', gs.cv_results_)"
   ]
  },
  {
   "cell_type": "code",
   "execution_count": null,
   "metadata": {},
   "outputs": [],
   "source": [
    "# 模型预测\n",
    "x_train = scaler.fit_transform(x_train)\n",
    "x_test = scaler.fit_transform(x_test)\n",
    "model1 = MLPClassifier(solver= 'adam', activation= 'relu', batch_size= 64, learning_rate= 'adaptive', shuffle= True, max_iter= 1000,\n",
    "                alpha= 0.1, hidden_layer_sizes= 50, learning_rate_init= 1e-4)\n",
    "model1.fit(x_train, y_train)\n",
    "y_pred1 = model1.predict(x_test)"
   ]
  }
 ],
 "metadata": {
  "kernelspec": {
   "display_name": "Python 3.8.13 ('jupyter')",
   "language": "python",
   "name": "python3"
  },
  "language_info": {
   "codemirror_mode": {
    "name": "ipython",
    "version": 3
   },
   "file_extension": ".py",
   "mimetype": "text/x-python",
   "name": "python",
   "nbconvert_exporter": "python",
   "pygments_lexer": "ipython3",
   "version": "3.8.15 (default, Nov 24 2022, 14:38:14) [MSC v.1916 64 bit (AMD64)]"
  },
  "orig_nbformat": 4,
  "vscode": {
   "interpreter": {
    "hash": "94186ee46dd20d9135eb93318a31c12944db0bab97754bb10895fc1a10cecd0e"
   }
  }
 },
 "nbformat": 4,
 "nbformat_minor": 2
}
