{
 "cells": [
  {
   "cell_type": "code",
   "execution_count": null,
   "metadata": {},
   "outputs": [],
   "source": [
    "import pandas as pd\n",
    "import numpy as np\n",
    "from collections import Counter\n",
    "from sklearn import ensemble\n",
    "from sklearn import preprocessing\n",
    "import sklearn.tree as tree\n",
    "from sklearn.model_selection import GridSearchCV\n",
    "import sklearn.metrics as metrics\n",
    "from sklearn.model_selection import train_test_split\n",
    "from sklearn.decomposition import PCA\n",
    "import xgboost as xgb\n",
    "from xgboost import plot_importance\n",
    "from matplotlib import pyplot as plt\n",
    "from sklearn.metrics import confusion_matrix, accuracy_score, precision_score\n",
    "from sklearn.metrics import recall_score, f1_score, roc_auc_score\n",
    "import shap"
   ]
  },
  {
   "cell_type": "code",
   "execution_count": null,
   "metadata": {},
   "outputs": [],
   "source": [
    "df = pd.read_csv('./process_data/train.csv')\n",
    "df = df.sort_values(by=' timedelta',ascending=False)  #发布时间从早到晚\n",
    "\n",
    "y = df.iloc[:, 0:2]\n",
    "X = df.iloc[:, 2:-1]\n",
    "\n",
    "train_size = int(0.7*df.shape[0])\n",
    "X_train = X.iloc[0:train_size,:]\n",
    "X_test = X.iloc[train_size:df.shape[0]+1,:]\n",
    "y_train = y.iloc[0:train_size]\n",
    "y_test = y.iloc[train_size:df.shape[0]+1]\n",
    "X_train = preprocessing.scale(X_train)\n",
    "X_test = preprocessing.scale(X_test)"
   ]
  },
  {
   "cell_type": "code",
   "execution_count": null,
   "metadata": {},
   "outputs": [],
   "source": [
    "# 使用随机森林对测试集进行预测\n",
    "param_grid = {\n",
    "    # 'criterion':['entropy','gini'],\n",
    "    'max_depth':[5, 6, 7, 8],    # 深度：这里是森林中每棵决策树的深度\n",
    "    'n_estimators':[10, 20, 50, 100, 200, 400],  # 决策树个数-随机森林特有参数\n",
    "    # 'max_features':[0.3,0.4,0.5],\n",
    "    #  # 每棵决策树使用的变量占比-随机森林特有参数（结合原理）\n",
    "    'min_samples_split':[4,8,12,16]  # 叶子的最小拆分样本量\n",
    "}\n",
    "\n",
    "rfc = ensemble.RandomForestClassifier()\n",
    "rfc_cv = GridSearchCV(estimator=rfc, param_grid=param_grid,\n",
    "                      scoring='roc_auc', cv=4)\n",
    "rfc_cv.fit(X_train, y_train)\n",
    "test_est = rfc_cv.predict(X_test)"
   ]
  },
  {
   "cell_type": "code",
   "execution_count": null,
   "metadata": {
    "pycharm": {
     "is_executing": true
    }
   },
   "outputs": [],
   "source": [
    "print('随机森林精确度:')\n",
    "print(metrics.classification_report(y_test, test_est))\n",
    "print('随机森林 AUC:')\n",
    "fpr_test, tpr_test, th_test = metrics.roc_curve(y_test, test_est)\n",
    "print('AUC = %.4f' %metrics.auc(fpr_test, tpr_test))\n",
    "print('accuracy     '+str(accuracy_score(y_test,test_est)))\n",
    "print('precision    '+str(precision_score(y_test,test_est)))\n",
    "print('recall       '+str(recall_score(y_test,test_est)))\n",
    "print('f1_score     '+str(f1_score(y_test,test_est)))\n",
    "print('AUC          '+str(roc_auc_score(y_test,test_est)))"
   ]
  }
 ],
 "metadata": {
  "kernelspec": {
   "display_name": "Python 3.10.8 64-bit",
   "language": "python",
   "name": "python3"
  },
  "language_info": {
   "codemirror_mode": {
    "name": "ipython",
    "version": 3
   },
   "file_extension": ".py",
   "mimetype": "text/x-python",
   "name": "python",
   "nbconvert_exporter": "python",
   "pygments_lexer": "ipython3",
   "version": "3.10.8 (tags/v3.10.8:aaaf517, Oct 11 2022, 16:50:30) [MSC v.1933 64 bit (AMD64)]"
  },
  "orig_nbformat": 4,
  "vscode": {
   "interpreter": {
    "hash": "301a17a29b57d3836b7901af1621afd6d2b1f2298b9c7949191147cf2fea93e3"
   }
  }
 },
 "nbformat": 4,
 "nbformat_minor": 2
}
